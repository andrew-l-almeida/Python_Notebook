{
 "cells": [
  {
   "cell_type": "code",
   "execution_count": 2,
   "id": "2301e894-e5ca-4186-a9de-bccb29a76ee1",
   "metadata": {},
   "outputs": [
    {
     "data": {
      "text/plain": [
       "{'name': 'ANDREW', 'age': 24}"
      ]
     },
     "execution_count": 2,
     "metadata": {},
     "output_type": "execute_result"
    }
   ],
   "source": [
    "#Dictionaty comprehension\n",
    "\n",
    "people = {\n",
    "    'name': 'Andrew',\n",
    "    'last_name': 'Almeida',\n",
    "    'age': 24\n",
    "}\n",
    "\n",
    "new_people = {\n",
    "    chave: valor.upper()\n",
    "    if isinstance(valor, str) else valor\n",
    "    for chave, valor\n",
    "    in people.items()\n",
    "    if valor == 'Andrew' or valor == 24\n",
    "}\n",
    "\n",
    "new_people"
   ]
  },
  {
   "cell_type": "code",
   "execution_count": 7,
   "id": "ac529b0a-7427-4ee9-9e16-88472f8801b4",
   "metadata": {},
   "outputs": [
    {
     "data": {
      "text/plain": [
       "'ANDREW'"
      ]
     },
     "execution_count": 7,
     "metadata": {},
     "output_type": "execute_result"
    }
   ],
   "source": [
    "#dir, hasattr, getattr\n",
    "\n",
    "word = 'Andrew'\n",
    "\n",
    "dir(word)\n",
    "hasattr(word, 'upper')\n",
    "getattr(word, 'upper')()"
   ]
  },
  {
   "cell_type": "code",
   "execution_count": 24,
   "id": "1ab2f339-d880-47d8-9db8-09a9c7a31d46",
   "metadata": {},
   "outputs": [],
   "source": [
    "#Iterator and Iterable\n",
    "#Iterable is sequencial item that you can access things sequencially\n",
    "#Iterator just do one thing: show the next value\n",
    "\n",
    "iterable = ['Andrew', 'Lima', 'Almeida']\n",
    "iterator = iterable.__iter__() #Or iter(iterable)\n",
    "\n"
   ]
  },
  {
   "cell_type": "code",
   "execution_count": 25,
   "id": "e42f396d-7bb1-4cab-86d1-a21d36dcefb6",
   "metadata": {},
   "outputs": [
    {
     "name": "stdout",
     "output_type": "stream",
     "text": [
      "Andrew\n",
      "Lima\n",
      "Almeida\n"
     ]
    }
   ],
   "source": [
    "print(next(iterator))\n",
    "print(next(iterator))\n",
    "print(next(iterator))"
   ]
  },
  {
   "cell_type": "code",
   "execution_count": null,
   "id": "adc6b909-d4c2-4536-b816-4381b006c6c2",
   "metadata": {},
   "outputs": [],
   "source": []
  }
 ],
 "metadata": {
  "kernelspec": {
   "display_name": "Python 3 (ipykernel)",
   "language": "python",
   "name": "python3"
  },
  "language_info": {
   "codemirror_mode": {
    "name": "ipython",
    "version": 3
   },
   "file_extension": ".py",
   "mimetype": "text/x-python",
   "name": "python",
   "nbconvert_exporter": "python",
   "pygments_lexer": "ipython3",
   "version": "3.11.6"
  }
 },
 "nbformat": 4,
 "nbformat_minor": 5
}
