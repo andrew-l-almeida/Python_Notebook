{
 "cells": [
  {
   "cell_type": "code",
   "execution_count": 2,
   "id": "2a14bfda-a932-4bcd-a2d2-5560110547b3",
   "metadata": {},
   "outputs": [
    {
     "data": {
      "text/plain": [
       "'win32'"
      ]
     },
     "execution_count": 2,
     "metadata": {},
     "output_type": "execute_result"
    }
   ],
   "source": [
    "#Python modules\n",
    "\n",
    "#There are 3 forms to import modules in python\n",
    "#All forms have advantages and disadvantages\n",
    "#Import the entire module\n",
    "# import module_name\n",
    "# from module_name import variable1, variable2\n",
    "# from module_name import * -> is a bad thing\n",
    "\n",
    "import sys\n",
    "\n",
    "sys.platform\n"
   ]
  },
  {
   "cell_type": "code",
   "execution_count": 4,
   "id": "a867b3e3-69c8-445e-b7cd-feee33184fac",
   "metadata": {},
   "outputs": [
    {
     "data": {
      "text/plain": [
       "'win32'"
      ]
     },
     "execution_count": 4,
     "metadata": {},
     "output_type": "execute_result"
    }
   ],
   "source": [
    "from sys import platform, path\n",
    "\n",
    "platform"
   ]
  },
  {
   "cell_type": "code",
   "execution_count": 41,
   "id": "5104bfc8-ddb2-4f5b-8a76-6cd5d502785a",
   "metadata": {},
   "outputs": [
    {
     "data": {
      "text/plain": [
       "[{'name': 'Produto 5', 'price': 11.0},\n",
       " {'name': 'Produto 3', 'price': 11.121},\n",
       " {'name': 'Produto 1', 'price': 24.552000000000003},\n",
       " {'name': 'Produto 4', 'price': 76.89000000000001},\n",
       " {'name': 'Produto 2', 'price': 116.45700000000001}]"
      ]
     },
     "execution_count": 41,
     "metadata": {},
     "output_type": "execute_result"
    }
   ],
   "source": [
    "#Exercise \n",
    "from copy import deepcopy\n",
    "\n",
    "\n",
    "products = [\n",
    "    {'name': 'Produto 5', 'price': 10.00},\n",
    "    {'name': 'Produto 1', 'price': 22.32},\n",
    "    {'name': 'Produto 3', 'price': 10.11},\n",
    "    {'name': 'Produto 2', 'price': 105.87},\n",
    "    {'name': 'Produto 4', 'price': 69.90},\n",
    "]\n",
    "\n",
    "# Raise the products price in 10% \n",
    "# Generate new_products by deep copy\n",
    "\n",
    "new_products = [{**product, 'price': product['price'] * 1.1} for product in products]\n",
    "\n",
    "#Sort the products by descending name\n",
    "#Generate products_sorted_by_name by deep copy\n",
    "\n",
    "products_sorted_by_name = deepcopy(sorted(new_products, key=lambda item: item['name'], reverse=True))\n",
    "\n",
    "\n",
    "#Order the products by ascending price\n",
    "# Generate products_orded_by_price by deep copy\n",
    "products_orded_by_price = deepcopy(sorted(new_products, key=lambda item: item['price']))\n",
    "\n",
    "products_orded_by_price"
   ]
  },
  {
   "cell_type": "code",
   "execution_count": 81,
   "id": "52f1bd0f-7298-4d5e-9cbd-1279d665bfa6",
   "metadata": {},
   "outputs": [
    {
     "data": {
      "text/plain": [
       "15"
      ]
     },
     "execution_count": 81,
     "metadata": {},
     "output_type": "execute_result"
    }
   ],
   "source": [
    "# Exercise - Postponing execution of functions\n",
    "def sum_number(x, y=0):\n",
    "    return x + y\n",
    "\n",
    "\n",
    "def times_number(x, y):\n",
    "    return x * y\n",
    "\n",
    "\n",
    "def create_function(funcao, x):\n",
    "    \n",
    "    def internal(y):\n",
    "        return funcao(x, y)\n",
    "        \n",
    "    return internal\n",
    "\n",
    "\n",
    "sum_five = create_function(sum_number, 5)\n",
    "times_ten = create_function(times_number, 10)\n",
    "\n",
    "sum_five(10)\n",
    "\n",
    "times_ten(10)\n"
   ]
  },
  {
   "cell_type": "code",
   "execution_count": null,
   "id": "773b89ee-bab7-4899-b2ba-c18f7c1cbfb6",
   "metadata": {},
   "outputs": [],
   "source": []
  }
 ],
 "metadata": {
  "kernelspec": {
   "display_name": "Python 3 (ipykernel)",
   "language": "python",
   "name": "python3"
  },
  "language_info": {
   "codemirror_mode": {
    "name": "ipython",
    "version": 3
   },
   "file_extension": ".py",
   "mimetype": "text/x-python",
   "name": "python",
   "nbconvert_exporter": "python",
   "pygments_lexer": "ipython3",
   "version": "3.11.5"
  }
 },
 "nbformat": 4,
 "nbformat_minor": 5
}
